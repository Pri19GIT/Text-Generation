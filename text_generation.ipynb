{
  "nbformat": 4,
  "nbformat_minor": 0,
  "metadata": {
    "colab": {
      "name": "text_generation.ipynb",
      "provenance": [],
      "authorship_tag": "ABX9TyO43VAwDlcoc2rMnmMYfSqj",
      "include_colab_link": true
    },
    "kernelspec": {
      "name": "python3",
      "display_name": "Python 3"
    }
  },
  "cells": [
    {
      "cell_type": "markdown",
      "metadata": {
        "id": "view-in-github",
        "colab_type": "text"
      },
      "source": [
        "<a href=\"https://colab.research.google.com/github/Pri19GIT/Text-Generation/blob/main/text_generation.ipynb\" target=\"_parent\"><img src=\"https://colab.research.google.com/assets/colab-badge.svg\" alt=\"Open In Colab\"/></a>"
      ]
    },
    {
      "cell_type": "code",
      "metadata": {
        "id": "jMLECL42TiGY"
      },
      "source": [
        "!wget https://www.gutenberg.org/files/1661/1661-0.txt -o book.txt"
      ],
      "execution_count": 50,
      "outputs": []
    },
    {
      "cell_type": "code",
      "metadata": {
        "id": "X_8hTem1UDXl"
      },
      "source": [
        "text=open('1661-0.txt','r',encoding='utf-8').read()\r\n",
        "text=text.lower()"
      ],
      "execution_count": 51,
      "outputs": []
    },
    {
      "cell_type": "code",
      "metadata": {
        "id": "9hzjGBHMdhQf"
      },
      "source": [
        "sentences=text.split('\\n')"
      ],
      "execution_count": 52,
      "outputs": []
    },
    {
      "cell_type": "code",
      "metadata": {
        "id": "-6R5J3ShdnlO"
      },
      "source": [
        "import tensorflow as tf\r\n",
        "import keras\r\n",
        "from keras.preprocessing.text import Tokenizer\r\n",
        "from keras.preprocessing.sequence import pad_sequences"
      ],
      "execution_count": 53,
      "outputs": []
    },
    {
      "cell_type": "code",
      "metadata": {
        "id": "9RLCERO-d5hA"
      },
      "source": [
        "tokenizer=Tokenizer(oov_token=\"<UNK>\")"
      ],
      "execution_count": 54,
      "outputs": []
    },
    {
      "cell_type": "code",
      "metadata": {
        "id": "eDF-P7vr64WK"
      },
      "source": [
        "tokenizer.fit_on_texts(sentences)"
      ],
      "execution_count": 55,
      "outputs": []
    },
    {
      "cell_type": "code",
      "metadata": {
        "colab": {
          "base_uri": "https://localhost:8080/"
        },
        "id": "3p0UI3u569lB",
        "outputId": "f13dbe00-e3b3-41cc-8831-cc3ae885a582"
      },
      "source": [
        "vocab_size=len(tokenizer.word_index)+1\r\n",
        "vocab_size"
      ],
      "execution_count": 56,
      "outputs": [
        {
          "output_type": "execute_result",
          "data": {
            "text/plain": [
              "8933"
            ]
          },
          "metadata": {
            "tags": []
          },
          "execution_count": 56
        }
      ]
    },
    {
      "cell_type": "code",
      "metadata": {
        "id": "99J9IvmAAGYW"
      },
      "source": [
        "sequences=tokenizer.texts_to_sequences(sentences)"
      ],
      "execution_count": 57,
      "outputs": []
    },
    {
      "cell_type": "code",
      "metadata": {
        "id": "oC7cIp7G_r0Q"
      },
      "source": [
        "input_sequences=[]\r\n",
        "for sequence in sequences:\r\n",
        "  for i in range(1,len(sequence)):\r\n",
        "    n_gram_sequence=sequence[:i+1]\r\n",
        "    input_sequences.append(n_gram_sequence)"
      ],
      "execution_count": 58,
      "outputs": []
    },
    {
      "cell_type": "code",
      "metadata": {
        "colab": {
          "base_uri": "https://localhost:8080/"
        },
        "id": "AuSW8WwwARW3",
        "outputId": "55ea2591-565c-4064-8cf2-6e2b9c089dd2"
      },
      "source": [
        "print(input_sequences[0],input_sequences[1])"
      ],
      "execution_count": 59,
      "outputs": [
        {
          "output_type": "stream",
          "text": [
            "[146, 4790] [146, 4790, 2]\n"
          ],
          "name": "stdout"
        }
      ]
    },
    {
      "cell_type": "code",
      "metadata": {
        "colab": {
          "base_uri": "https://localhost:8080/"
        },
        "id": "yRfgmCbDAcuY",
        "outputId": "284d065d-6c01-4f5b-b8bc-c40c6836b6f1"
      },
      "source": [
        "max_seq_len=max([len(seq) for seq in input_sequences])\r\n",
        "max_seq_len"
      ],
      "execution_count": 60,
      "outputs": [
        {
          "output_type": "execute_result",
          "data": {
            "text/plain": [
              "20"
            ]
          },
          "metadata": {
            "tags": []
          },
          "execution_count": 60
        }
      ]
    },
    {
      "cell_type": "code",
      "metadata": {
        "id": "CBGYATmmAo46"
      },
      "source": [
        "padded_sequences=pad_sequences(input_sequences,maxlen=max_seq_len)"
      ],
      "execution_count": 61,
      "outputs": []
    },
    {
      "cell_type": "code",
      "metadata": {
        "colab": {
          "base_uri": "https://localhost:8080/"
        },
        "id": "00OCqG0rA1ov",
        "outputId": "f8c46554-46e3-4db6-8209-48bc9176c754"
      },
      "source": [
        "print(padded_sequences[0],padded_sequences[1])"
      ],
      "execution_count": 62,
      "outputs": [
        {
          "output_type": "stream",
          "text": [
            "[   0    0    0    0    0    0    0    0    0    0    0    0    0    0\n",
            "    0    0    0    0  146 4790] [   0    0    0    0    0    0    0    0    0    0    0    0    0    0\n",
            "    0    0    0  146 4790    2]\n"
          ],
          "name": "stdout"
        }
      ]
    },
    {
      "cell_type": "code",
      "metadata": {
        "id": "WG1MQ2aOA79S"
      },
      "source": [
        "import numpy as np\r\n",
        "padded_sequences=np.array(padded_sequences)"
      ],
      "execution_count": 63,
      "outputs": []
    },
    {
      "cell_type": "code",
      "metadata": {
        "id": "ljFDc9GhC8Lm"
      },
      "source": [
        "x=padded_sequences[:,:-1]\r\n",
        "labels=padded_sequences[:,-1]"
      ],
      "execution_count": 64,
      "outputs": []
    },
    {
      "cell_type": "code",
      "metadata": {
        "id": "NAKcLlmZDIbd"
      },
      "source": [
        "y=tf.keras.utils.to_categorical(labels,num_classes=vocab_size)"
      ],
      "execution_count": 65,
      "outputs": []
    },
    {
      "cell_type": "code",
      "metadata": {
        "colab": {
          "base_uri": "https://localhost:8080/"
        },
        "id": "WKVfNjSiDSUv",
        "outputId": "99b6b41a-91b0-46ad-912b-8d8ac09a8300"
      },
      "source": [
        "y.shape\r\n"
      ],
      "execution_count": 66,
      "outputs": [
        {
          "output_type": "execute_result",
          "data": {
            "text/plain": [
              "(101619, 8933)"
            ]
          },
          "metadata": {
            "tags": []
          },
          "execution_count": 66
        }
      ]
    },
    {
      "cell_type": "code",
      "metadata": {
        "colab": {
          "base_uri": "https://localhost:8080/"
        },
        "id": "cxZ5rmwwDXnX",
        "outputId": "98340603-f1ca-48d0-c7b3-8f627eb91d43"
      },
      "source": [
        "x.shape"
      ],
      "execution_count": 67,
      "outputs": [
        {
          "output_type": "execute_result",
          "data": {
            "text/plain": [
              "(101619, 19)"
            ]
          },
          "metadata": {
            "tags": []
          },
          "execution_count": 67
        }
      ]
    },
    {
      "cell_type": "code",
      "metadata": {
        "id": "fP5whuCZGS8b"
      },
      "source": [
        "#importing dependencies for model\r\n",
        "import tensorflow  as tf\r\n",
        "from tensorflow.keras.models import Sequential \r\n",
        "from tensorflow.keras.layers import Embedding, Bidirectional, LSTM, Dense\r\n",
        "#from tensorflow.keras.optimisers import Adam"
      ],
      "execution_count": 68,
      "outputs": []
    },
    {
      "cell_type": "code",
      "metadata": {
        "colab": {
          "base_uri": "https://localhost:8080/"
        },
        "id": "yl5Svn2KHGqh",
        "outputId": "394850b9-702f-4fe1-d0e0-abc5f4cae0c0"
      },
      "source": [
        "model=Sequential()\r\n",
        "model.add(Embedding(vocab_size,100,input_length=max_seq_len))\r\n",
        "model.add(Bidirectional(LSTM(256)))\r\n",
        "model.add(Dense(vocab_size,activation='softmax'))\r\n",
        "#adam=Adam(learning_rate=0.01)\r\n",
        "model.compile(optimizer= keras.optimizers.Adam(learning_rate=0.01), loss='categorical_crossentropy', metrics=['acc'])\r\n",
        "model.summary()"
      ],
      "execution_count": 69,
      "outputs": [
        {
          "output_type": "stream",
          "text": [
            "Model: \"sequential_3\"\n",
            "_________________________________________________________________\n",
            "Layer (type)                 Output Shape              Param #   \n",
            "=================================================================\n",
            "embedding_3 (Embedding)      (None, 20, 100)           893300    \n",
            "_________________________________________________________________\n",
            "bidirectional_3 (Bidirection (None, 512)               731136    \n",
            "_________________________________________________________________\n",
            "dense_3 (Dense)              (None, 8933)              4582629   \n",
            "=================================================================\n",
            "Total params: 6,207,065\n",
            "Trainable params: 6,207,065\n",
            "Non-trainable params: 0\n",
            "_________________________________________________________________\n"
          ],
          "name": "stdout"
        }
      ]
    },
    {
      "cell_type": "code",
      "metadata": {
        "id": "GJI9g07JKRxW"
      },
      "source": [
        "from tensorflow.keras.callbacks import EarlyStopping\r\n",
        "es=EarlyStopping(monitor='acc',min_delta=0.01)\r\n"
      ],
      "execution_count": 70,
      "outputs": []
    },
    {
      "cell_type": "code",
      "metadata": {
        "colab": {
          "base_uri": "https://localhost:8080/"
        },
        "id": "4UdujvWJKhbY",
        "outputId": "991db416-755e-40a9-b54c-648bd02e673a"
      },
      "source": [
        "model.fit(x,y,epochs=50,verbose=1, batch_size=512,callbacks=[es])"
      ],
      "execution_count": 71,
      "outputs": [
        {
          "output_type": "stream",
          "text": [
            "Epoch 1/50\n",
            "WARNING:tensorflow:Model was constructed with shape (None, 20) for input KerasTensor(type_spec=TensorSpec(shape=(None, 20), dtype=tf.float32, name='embedding_3_input'), name='embedding_3_input', description=\"created by layer 'embedding_3_input'\"), but it was called on an input with incompatible shape (None, 19).\n",
            "WARNING:tensorflow:Model was constructed with shape (None, 20) for input KerasTensor(type_spec=TensorSpec(shape=(None, 20), dtype=tf.float32, name='embedding_3_input'), name='embedding_3_input', description=\"created by layer 'embedding_3_input'\"), but it was called on an input with incompatible shape (None, 19).\n",
            "199/199 [==============================] - 219s 1s/step - loss: 6.6876 - acc: 0.0608\n",
            "Epoch 2/50\n",
            "199/199 [==============================] - 218s 1s/step - loss: 5.3298 - acc: 0.1393\n",
            "Epoch 3/50\n",
            "199/199 [==============================] - 218s 1s/step - loss: 4.7380 - acc: 0.1742\n",
            "Epoch 4/50\n",
            "199/199 [==============================] - 216s 1s/step - loss: 4.1612 - acc: 0.2106\n",
            "Epoch 5/50\n",
            "199/199 [==============================] - 218s 1s/step - loss: 3.6490 - acc: 0.2608\n",
            "Epoch 6/50\n",
            "199/199 [==============================] - 217s 1s/step - loss: 3.1766 - acc: 0.3193\n",
            "Epoch 7/50\n",
            "199/199 [==============================] - 217s 1s/step - loss: 2.7872 - acc: 0.3801\n",
            "Epoch 8/50\n",
            "199/199 [==============================] - 217s 1s/step - loss: 2.4789 - acc: 0.4321\n",
            "Epoch 9/50\n",
            "199/199 [==============================] - 215s 1s/step - loss: 2.2217 - acc: 0.4804\n",
            "Epoch 10/50\n",
            "199/199 [==============================] - 216s 1s/step - loss: 2.0055 - acc: 0.5214\n",
            "Epoch 11/50\n",
            "199/199 [==============================] - 215s 1s/step - loss: 1.8386 - acc: 0.5526\n",
            "Epoch 12/50\n",
            "199/199 [==============================] - 217s 1s/step - loss: 1.7066 - acc: 0.5810\n",
            "Epoch 13/50\n",
            "199/199 [==============================] - 215s 1s/step - loss: 1.5890 - acc: 0.6043\n",
            "Epoch 14/50\n",
            "199/199 [==============================] - 215s 1s/step - loss: 1.4861 - acc: 0.6286\n",
            "Epoch 15/50\n",
            "199/199 [==============================] - 217s 1s/step - loss: 1.4114 - acc: 0.6424\n",
            "Epoch 16/50\n",
            "199/199 [==============================] - 217s 1s/step - loss: 1.3452 - acc: 0.6562\n",
            "Epoch 17/50\n",
            "199/199 [==============================] - 216s 1s/step - loss: 1.2877 - acc: 0.6694\n",
            "Epoch 18/50\n",
            "199/199 [==============================] - 217s 1s/step - loss: 1.2362 - acc: 0.6780\n"
          ],
          "name": "stdout"
        },
        {
          "output_type": "execute_result",
          "data": {
            "text/plain": [
              "<tensorflow.python.keras.callbacks.History at 0x7fd438f02208>"
            ]
          },
          "metadata": {
            "tags": []
          },
          "execution_count": 71
        }
      ]
    },
    {
      "cell_type": "code",
      "metadata": {
        "id": "ZtOB-UnRZMCI"
      },
      "source": [
        "#time for some story telling\r\n",
        "seed_text=\"I could not help laughing at the ease with which he explained his deduction\"\r\n",
        "next_words=100\r\n",
        "\r\n",
        "for _ in range(next_words):\r\n",
        "  sequence=tokenizer.texts_to-sequence([seed_text])\r\n",
        "  padded=pad_sequences(sequences.maxlen=max_seq_len)\r\n",
        "  predicted=model.predict_classes(padded, verbose=0)\r\n",
        "  output_word=''\r\n",
        "  for word,index in tokenizer.word_index.items():\r\n",
        "    if index==predicted:\r\n",
        "      output_word=word\r\n",
        "      break\r\n",
        "  seed_text+=' '+output_word\r\n",
        "print(seed_text)\r\n"
      ],
      "execution_count": 71,
      "outputs": []
    },
    {
      "cell_type": "code",
      "metadata": {
        "colab": {
          "base_uri": "https://localhost:8080/",
          "height": 545
        },
        "id": "6uh2td79eGkL",
        "outputId": "5af7305d-4ef8-4e40-856f-a824f7d29456"
      },
      "source": [
        "import matplotlib.pyplot as plt\r\n",
        "history=model.history\r\n",
        "acc=history.history['acc']\r\n",
        "loss=history.history['loss']\r\n",
        "epochs=range(len(acc))\r\n",
        "\r\n",
        "plt.plot(epochs,acc,'b',label='Training accuracy')\r\n",
        "plt.title('training accuracy')\r\n",
        "\r\n",
        "plt.figure()\r\n",
        "\r\n",
        "plt.plot(epochs,loss,'b',label='training loss')\r\n",
        "plt.title('training loss')\r\n",
        "plt.legend()\r\n",
        "plt.show()"
      ],
      "execution_count": 74,
      "outputs": [
        {
          "output_type": "display_data",
          "data": {
            "image/png": "[encoded data removed]",
            "text/plain": [
              "<Figure size 432x288 with 1 Axes>"
            ]
          },
          "metadata": {
            "tags": [],
            "needs_background": "light"
          }
        },
        {
          "output_type": "display_data",
          "data": {
            "image/png": "[encoded data removed]",
            "text/plain": [
              "<Figure size 432x288 with 1 Axes>"
            ]
          },
          "metadata": {
            "tags": [],
            "needs_background": "light"
          }
        }
      ]
    }
  ]
}